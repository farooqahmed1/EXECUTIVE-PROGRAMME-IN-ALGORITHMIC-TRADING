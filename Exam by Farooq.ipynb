{
 "cells": [
  {
   "cell_type": "markdown",
   "metadata": {},
   "source": [
    "# Answers by FAROOQ AHMED"
   ]
  },
  {
   "cell_type": "markdown",
   "metadata": {},
   "source": [
    "# Instructions:\n",
    "\n",
    "Total Marks- 70\n",
    "\n",
    "1.   This assignment contains 9 Questions. You need to answer all questions and upload all the solution files enclosed in a Zip format.\n",
    "\n",
    "2.   Please download the file: EPAT-exam-files.zip. Click on the drop-down menu (on the top right) which says \"Files\" and then click on “EPAT-exam-files.zip” to download it. This contains the files that you will need to use with the assignment questions.\n"
   ]
  },
  {
   "cell_type": "markdown",
   "metadata": {},
   "source": [
    "# 1.   Please use the file “Merged data.xls” for this question. This question can be attempted either in MS Excel or R. Please upload your final R code or updated Excel file (10 marks).\n",
    "a.   Read the file in R or MS Excel. Notice that the data has closing prices of Stock and Index.\n",
    "b.   Calculate logarithmic returns for the closing prices. (Attached – Excel)\n",
    "c.   Calculate and report the beta of stock A for index I. (Attached – Excel)\n",
    "d.   What is the significance level of the regression analysis? (Attached – Excel)\n",
    "e.   Is the regression analysis significant at 90% confidence interval? (Attached – Excel)\n"
   ]
  },
  {
   "cell_type": "markdown",
   "metadata": {},
   "source": [
    "# Results are attached in MS Excel file"
   ]
  },
  {
   "cell_type": "markdown",
   "metadata": {},
   "source": [
    "# ----------------------------------------------------------------------------------------------------------"
   ]
  },
  {
   "cell_type": "markdown",
   "metadata": {},
   "source": [
    "# 2.   This question can be performed in Excel. Use the same file “Merged data.xls”. (Total 10 marks)\n",
    "a.   Calculate moving average on closing prices of Stock A for a window of 60 days. What is the value of moving average for“1- Sep-2016“? Take historical data only. (5 marks)\n",
    "b.   Submit the code/formula which you used to calculate the moving average.  (5 marks)\n"
   ]
  },
  {
   "cell_type": "code",
   "execution_count": 1,
   "metadata": {
    "collapsed": true
   },
   "outputs": [],
   "source": [
    "# STEP 1 : Import all the key libraries to current enviorment \n",
    "import pandas as pd \n",
    "# panda shortform is pd \n",
    "import numpy as np\n",
    "# numpy shortform is np \n",
    "\n",
    "import os\n",
    "import matplotlib.pyplot as plt\n",
    "%matplotlib inline"
   ]
  },
  {
   "cell_type": "code",
   "execution_count": 2,
   "metadata": {},
   "outputs": [
    {
     "data": {
      "text/plain": [
       "'D:\\\\Tensorflow\\\\EPAT\\\\Final Exam'"
      ]
     },
     "execution_count": 2,
     "metadata": {},
     "output_type": "execute_result"
    }
   ],
   "source": [
    "os.getcwd()\n",
    "# the directory where my files were located"
   ]
  },
  {
   "cell_type": "code",
   "execution_count": 18,
   "metadata": {
    "collapsed": true
   },
   "outputs": [],
   "source": [
    "#df = pd.read_csv(\"Merged data.csv\", index_col=0)\n",
    "df = pd.read_excel(\"Merged data.xlsx\", index_col=0, parse_dates=True,sheet_name=0)"
   ]
  },
  {
   "cell_type": "code",
   "execution_count": 19,
   "metadata": {},
   "outputs": [
    {
     "data": {
      "text/html": [
       "<div>\n",
       "<style scoped>\n",
       "    .dataframe tbody tr th:only-of-type {\n",
       "        vertical-align: middle;\n",
       "    }\n",
       "\n",
       "    .dataframe tbody tr th {\n",
       "        vertical-align: top;\n",
       "    }\n",
       "\n",
       "    .dataframe thead th {\n",
       "        text-align: right;\n",
       "    }\n",
       "</style>\n",
       "<table border=\"1\" class=\"dataframe\">\n",
       "  <thead>\n",
       "    <tr style=\"text-align: right;\">\n",
       "      <th></th>\n",
       "      <th>Index</th>\n",
       "      <th>Stock</th>\n",
       "    </tr>\n",
       "    <tr>\n",
       "      <th>Date</th>\n",
       "      <th></th>\n",
       "      <th></th>\n",
       "    </tr>\n",
       "  </thead>\n",
       "  <tbody>\n",
       "    <tr>\n",
       "      <th>2012-06-01</th>\n",
       "      <td>4841.600098</td>\n",
       "      <td>1074.849976</td>\n",
       "    </tr>\n",
       "    <tr>\n",
       "      <th>2012-06-04</th>\n",
       "      <td>4848.149902</td>\n",
       "      <td>1067.500000</td>\n",
       "    </tr>\n",
       "    <tr>\n",
       "      <th>2012-06-05</th>\n",
       "      <td>4863.299805</td>\n",
       "      <td>1079.000000</td>\n",
       "    </tr>\n",
       "    <tr>\n",
       "      <th>2012-06-06</th>\n",
       "      <td>4997.100098</td>\n",
       "      <td>1107.949951</td>\n",
       "    </tr>\n",
       "    <tr>\n",
       "      <th>2012-06-07</th>\n",
       "      <td>5049.649902</td>\n",
       "      <td>1143.250000</td>\n",
       "    </tr>\n",
       "  </tbody>\n",
       "</table>\n",
       "</div>"
      ],
      "text/plain": [
       "                  Index        Stock\n",
       "Date                                \n",
       "2012-06-01  4841.600098  1074.849976\n",
       "2012-06-04  4848.149902  1067.500000\n",
       "2012-06-05  4863.299805  1079.000000\n",
       "2012-06-06  4997.100098  1107.949951\n",
       "2012-06-07  5049.649902  1143.250000"
      ]
     },
     "execution_count": 19,
     "metadata": {},
     "output_type": "execute_result"
    }
   ],
   "source": [
    "df.head()"
   ]
  },
  {
   "cell_type": "code",
   "execution_count": 20,
   "metadata": {},
   "outputs": [
    {
     "data": {
      "text/plain": [
       "<matplotlib.axes._subplots.AxesSubplot at 0x2000f87ce48>"
      ]
     },
     "execution_count": 20,
     "metadata": {},
     "output_type": "execute_result"
    },
    {
     "data": {
      "image/png": "[encoded data removed]",
      "text/plain": [
       "<matplotlib.figure.Figure at 0x2000f87e3c8>"
      ]
     },
     "metadata": {},
     "output_type": "display_data"
    }
   ],
   "source": [
    "df['Stock'].plot()"
   ]
  },
  {
   "cell_type": "code",
   "execution_count": 21,
   "metadata": {
    "collapsed": true
   },
   "outputs": [],
   "source": [
    "df['moving_average'] = df['Stock'].rolling(60).mean()"
   ]
  },
  {
   "cell_type": "code",
   "execution_count": 22,
   "metadata": {},
   "outputs": [
    {
     "data": {
      "text/plain": [
       "<matplotlib.axes._subplots.AxesSubplot at 0x2000f8fa6a0>"
      ]
     },
     "execution_count": 22,
     "metadata": {},
     "output_type": "execute_result"
    },
    {
     "data": {
      "image/png": "[encoded data removed]",
      "text/plain": [
       "<matplotlib.figure.Figure at 0x2000f92c048>"
      ]
     },
     "metadata": {},
     "output_type": "display_data"
    }
   ],
   "source": [
    "df['moving_average'].plot()"
   ]
  },
  {
   "cell_type": "markdown",
   "metadata": {},
   "source": [
    "# Answer"
   ]
  },
  {
   "cell_type": "code",
   "execution_count": 23,
   "metadata": {},
   "outputs": [
    {
     "data": {
      "text/plain": [
       "4512.498323583327"
      ]
     },
     "execution_count": 23,
     "metadata": {},
     "output_type": "execute_result"
    }
   ],
   "source": [
    "df['moving_average'].loc['2016-9-1']"
   ]
  },
  {
   "cell_type": "markdown",
   "metadata": {},
   "source": [
    "# -------------------------------------------------------------------------------------------"
   ]
  },
  {
   "cell_type": "markdown",
   "metadata": {},
   "source": [
    "# 3.   Submit the R or Python code to fetch the Microsoft data from 01-01-2015 to 01-01-2016 (5 marks)."
   ]
  },
  {
   "cell_type": "code",
   "execution_count": 25,
   "metadata": {
    "collapsed": true
   },
   "outputs": [],
   "source": [
    "from pandas_datareader import data\n",
    "import matplotlib.pyplot as plt\n",
    "import pandas as pd"
   ]
  },
  {
   "cell_type": "code",
   "execution_count": 27,
   "metadata": {
    "collapsed": true
   },
   "outputs": [],
   "source": [
    "tickers = ['MSFT']\n",
    "start_date = '2015-01-01'\n",
    "end_date = '2016-01-01'\n"
   ]
  },
  {
   "cell_type": "code",
   "execution_count": 34,
   "metadata": {
    "collapsed": true
   },
   "outputs": [],
   "source": [
    "msft = data.DataReader(tickers, 'yahoo',start_date,end_date)"
   ]
  },
  {
   "cell_type": "code",
   "execution_count": 36,
   "metadata": {},
   "outputs": [
    {
     "data": {
      "text/plain": [
       "<matplotlib.axes._subplots.AxesSubplot at 0x200100750b8>"
      ]
     },
     "execution_count": 36,
     "metadata": {},
     "output_type": "execute_result"
    },
    {
     "data": {
      "image/png": "[encoded data removed]",
      "text/plain": [
       "<matplotlib.figure.Figure at 0x2000ff516d8>"
      ]
     },
     "metadata": {},
     "output_type": "display_data"
    }
   ],
   "source": [
    "msft['Close'].plot()"
   ]
  },
  {
   "cell_type": "markdown",
   "metadata": {},
   "source": [
    "# 4. ARIMA Models (4 marks):\n",
    "a.  Explain the characteristics of AR and MA model. In other words, how do you choose the orders of AR and MA models in ARIMA?\n",
    "b.   What is the difference between correlation and autocorrelation?\n",
    "c.   What does a p-value of less than 0.05 in ADF test indicate?\n",
    "d.   What are the limitations of ARIMA?\n"
   ]
  },
  {
   "cell_type": "markdown",
   "metadata": {
    "collapsed": true
   },
   "source": [
    "a) \n",
    "AR(p)AR(p)  models attempt to explain the mean reversion and trending behaviours that we observe in asset prices.\n",
    "MA(q)MA(q)  models try to capture the idiosyncratic shocks that are observed in financial markets. A white noise process models these shocks quite well. We can think of events like terrorist attacks, earnings surprises, sudden political changes, etc. as the random shocks affecting the asset price movements.\n",
    "\n",
    "[ARIMA models](https://en.wikipedia.org/wiki/Autoregressive_integrated_moving_average) are a generalization of the ARMA class of models. We transform many non-stationary series to a stationary form by differencing them. We sometimes do so successively.\n",
    "\n",
    "We'd done precisely this when we converted the random walk model into a stationary series (which was white noise).\n",
    "To recap, this is what we'd done. $$\\epsilon_t = x_t - x_{t-1}$$\n",
    "\n",
    "The above step that we had performed is called first-differencing. When we perform this step repeatedly, $d$ times, to convert a non-stationary series to a stationary series, we define the original series to be $Integrated\\; of\\; order\\; d$.\n",
    "\n",
    "An $ARIMA(p, d, q)$ model when differenced $d$ times gives us an $ARMA(p, q)$ model.\n",
    "ARIMA models can be estimated/fitted using the [Box-Jenkins](https://en.wikipedia.org/wiki/Box%E2%80%93Jenkins_method) approach.\n",
    "\n",
    "b)Autocorrelation, also known as serial correlation, is the cross-correlation of a signal with itself. Informally, it is the similarity between observations as a function of the time lag between them. ... An autocorrelation is the correlation of one variable with a form of itself that is \"ahead or behind\" in \"time\".while correlation is a reciprocal, parallel or complementary relationship between two or more comparable objects. \n",
    "\n",
    "c)\n",
    "We can then visually inspect the time series plot and run the Augmented Dickey-Fuller test also referred to as the ADF test. The alternative hypothesis of the ADF test is that the series is stationary. So we check if p-value < 5 %. If test fails, we difference it again and check for stationarity.\n",
    "\n",
    "d)The ARIMA method is appropriate only for a time series that is stationary (i.e., its mean, variance, and autocorrelation should be approximately constant through time) and it is recommended that there are at least 50 observations in the input data."
   ]
  },
  {
   "cell_type": "markdown",
   "metadata": {},
   "source": [
    "# 5.   A trading system generates the trading signals based on the following logic (10 marks):\n",
    "    •    Buy signal is generated when the current high and low are both higher than the previous high and low respectively.     \n",
    "    •    Sell signal is generated when the current high and low are both lower than the previous high and low respectively.\n",
    "Calculate the number of signals that would be generated (both buy and sell) in the data file named “Stock A OHLC data.xls” (This file is available in downloadable files). Upload your work. (10 marks)\n"
   ]
  },
  {
   "cell_type": "code",
   "execution_count": 38,
   "metadata": {
    "collapsed": true
   },
   "outputs": [],
   "source": [
    "#df = pd.read_csv(\"Merged data.csv\", index_col=0)\n",
    "df2 = pd.read_excel(\"Stock A OHLC data.xlsx\", index_col=0, parse_dates=True,sheet_name=0)"
   ]
  },
  {
   "cell_type": "code",
   "execution_count": 39,
   "metadata": {},
   "outputs": [
    {
     "data": {
      "text/html": [
       "<div>\n",
       "<style scoped>\n",
       "    .dataframe tbody tr th:only-of-type {\n",
       "        vertical-align: middle;\n",
       "    }\n",
       "\n",
       "    .dataframe tbody tr th {\n",
       "        vertical-align: top;\n",
       "    }\n",
       "\n",
       "    .dataframe thead th {\n",
       "        text-align: right;\n",
       "    }\n",
       "</style>\n",
       "<table border=\"1\" class=\"dataframe\">\n",
       "  <thead>\n",
       "    <tr style=\"text-align: right;\">\n",
       "      <th></th>\n",
       "      <th>Open</th>\n",
       "      <th>High</th>\n",
       "      <th>Low</th>\n",
       "      <th>Close</th>\n",
       "      <th>Adj Close</th>\n",
       "      <th>Volume</th>\n",
       "    </tr>\n",
       "    <tr>\n",
       "      <th>Date</th>\n",
       "      <th></th>\n",
       "      <th></th>\n",
       "      <th></th>\n",
       "      <th></th>\n",
       "      <th></th>\n",
       "      <th></th>\n",
       "    </tr>\n",
       "  </thead>\n",
       "  <tbody>\n",
       "    <tr>\n",
       "      <th>2012-06-01</th>\n",
       "      <td>1106.949951</td>\n",
       "      <td>1118.599976</td>\n",
       "      <td>1071.000000</td>\n",
       "      <td>1074.849976</td>\n",
       "      <td>1033.370483</td>\n",
       "      <td>879733</td>\n",
       "    </tr>\n",
       "    <tr>\n",
       "      <th>2012-06-04</th>\n",
       "      <td>1069.699951</td>\n",
       "      <td>1078.000000</td>\n",
       "      <td>1051.000000</td>\n",
       "      <td>1067.500000</td>\n",
       "      <td>1026.303955</td>\n",
       "      <td>548592</td>\n",
       "    </tr>\n",
       "    <tr>\n",
       "      <th>2012-06-05</th>\n",
       "      <td>1077.500000</td>\n",
       "      <td>1089.900024</td>\n",
       "      <td>1058.300049</td>\n",
       "      <td>1079.000000</td>\n",
       "      <td>1037.360229</td>\n",
       "      <td>605028</td>\n",
       "    </tr>\n",
       "    <tr>\n",
       "      <th>2012-06-06</th>\n",
       "      <td>1079.900024</td>\n",
       "      <td>1115.800049</td>\n",
       "      <td>1076.349976</td>\n",
       "      <td>1107.949951</td>\n",
       "      <td>1065.193115</td>\n",
       "      <td>925831</td>\n",
       "    </tr>\n",
       "    <tr>\n",
       "      <th>2012-06-07</th>\n",
       "      <td>1120.000000</td>\n",
       "      <td>1146.400024</td>\n",
       "      <td>1110.599976</td>\n",
       "      <td>1143.250000</td>\n",
       "      <td>1099.130859</td>\n",
       "      <td>984712</td>\n",
       "    </tr>\n",
       "  </tbody>\n",
       "</table>\n",
       "</div>"
      ],
      "text/plain": [
       "                   Open         High          Low        Close    Adj Close  \\\n",
       "Date                                                                          \n",
       "2012-06-01  1106.949951  1118.599976  1071.000000  1074.849976  1033.370483   \n",
       "2012-06-04  1069.699951  1078.000000  1051.000000  1067.500000  1026.303955   \n",
       "2012-06-05  1077.500000  1089.900024  1058.300049  1079.000000  1037.360229   \n",
       "2012-06-06  1079.900024  1115.800049  1076.349976  1107.949951  1065.193115   \n",
       "2012-06-07  1120.000000  1146.400024  1110.599976  1143.250000  1099.130859   \n",
       "\n",
       "            Volume  \n",
       "Date                \n",
       "2012-06-01  879733  \n",
       "2012-06-04  548592  \n",
       "2012-06-05  605028  \n",
       "2012-06-06  925831  \n",
       "2012-06-07  984712  "
      ]
     },
     "execution_count": 39,
     "metadata": {},
     "output_type": "execute_result"
    }
   ],
   "source": [
    "df2.head()"
   ]
  },
  {
   "cell_type": "code",
   "execution_count": 45,
   "metadata": {
    "collapsed": true
   },
   "outputs": [],
   "source": [
    "df2['long_entry'] = ( df2['High'] > df2['High'].shift(-1) ) & ( df2['Low'] > df2['Low'].shift(-1) )\n",
    "df2.loc[df2.long_entry,'positions_long']= 1  "
   ]
  },
  {
   "cell_type": "code",
   "execution_count": 46,
   "metadata": {
    "collapsed": true
   },
   "outputs": [],
   "source": [
    "df2['short_entry'] = ( df2['High'] < df2['High'].shift(-1) ) & ( df2['Low'] < df2['Low'].shift(-1) )\n",
    "df2.loc[df2.short_entry,'positions_short']= -1  "
   ]
  },
  {
   "cell_type": "code",
   "execution_count": 47,
   "metadata": {},
   "outputs": [
    {
     "data": {
      "text/plain": [
       "932"
      ]
     },
     "execution_count": 47,
     "metadata": {},
     "output_type": "execute_result"
    }
   ],
   "source": [
    "df2['positions_long'].count()"
   ]
  },
  {
   "cell_type": "code",
   "execution_count": 48,
   "metadata": {},
   "outputs": [
    {
     "data": {
      "text/plain": [
       "512"
      ]
     },
     "execution_count": 48,
     "metadata": {},
     "output_type": "execute_result"
    }
   ],
   "source": [
    "df2['positions_short'].count()"
   ]
  },
  {
   "cell_type": "code",
   "execution_count": 49,
   "metadata": {},
   "outputs": [
    {
     "data": {
      "text/plain": [
       "1444"
      ]
     },
     "execution_count": 49,
     "metadata": {},
     "output_type": "execute_result"
    }
   ],
   "source": [
    "df2['positions_long'].count()+df2['positions_short'].count()"
   ]
  },
  {
   "cell_type": "markdown",
   "metadata": {},
   "source": [
    "# 6.   Use the same file “Merged data.xls” (Total 10 marks)\n",
    "a.   Write down differences between correlation and cointegration.\n",
    "cointegration\n",
    "It is whether the spread between two instruments is stationary•Long-term\n",
    "correlation\n",
    "It is whether the two instruments returns move in same direction•Short-term or long-term.\n",
    "\n",
    "b.   What is the critical value parameter at 95% confidence interval for t-stat while testing for co-integration using ADF test (for a sample size of 100 data points)? Assume all necessary conditions are met. \n",
    "-2.87\n",
    "c.   What is the t-stat for the co-integration test in the attached data? Use the most recent 60 values to calculate.\n",
    "d.   What is z-score?\n",
    "e.   How can you use z-score to calculate entry/exit points in pairs trading?\n"
   ]
  },
  {
   "cell_type": "markdown",
   "metadata": {},
   "source": [
    "# Answer 6a\n",
    "cointegration\n",
    "It is whether the spread between two instruments is stationary•Long-term\n",
    "correlation\n",
    "It is whether the two instruments returns move in same direction•Short-term or long-term.\n"
   ]
  },
  {
   "cell_type": "markdown",
   "metadata": {},
   "source": [
    "# Answer 6b\n",
    "\n",
    "-2.87"
   ]
  },
  {
   "cell_type": "markdown",
   "metadata": {},
   "source": [
    "# Answer 6c"
   ]
  },
  {
   "cell_type": "code",
   "execution_count": 51,
   "metadata": {
    "collapsed": true
   },
   "outputs": [],
   "source": [
    "# Import libraries\n",
    "import pandas as pd\n",
    "import matplotlib.pyplot as plt\n",
    "%matplotlib inline\n",
    "import numpy as np"
   ]
  },
  {
   "cell_type": "code",
   "execution_count": 53,
   "metadata": {
    "collapsed": true
   },
   "outputs": [],
   "source": [
    "df3 = pd.read_excel(\"Merged data.xlsx\", index_col=0, parse_dates=True,sheet_name=0)"
   ]
  },
  {
   "cell_type": "code",
   "execution_count": 54,
   "metadata": {},
   "outputs": [
    {
     "data": {
      "text/html": [
       "<div>\n",
       "<style scoped>\n",
       "    .dataframe tbody tr th:only-of-type {\n",
       "        vertical-align: middle;\n",
       "    }\n",
       "\n",
       "    .dataframe tbody tr th {\n",
       "        vertical-align: top;\n",
       "    }\n",
       "\n",
       "    .dataframe thead th {\n",
       "        text-align: right;\n",
       "    }\n",
       "</style>\n",
       "<table border=\"1\" class=\"dataframe\">\n",
       "  <thead>\n",
       "    <tr style=\"text-align: right;\">\n",
       "      <th></th>\n",
       "      <th>Index</th>\n",
       "      <th>Stock</th>\n",
       "    </tr>\n",
       "    <tr>\n",
       "      <th>Date</th>\n",
       "      <th></th>\n",
       "      <th></th>\n",
       "    </tr>\n",
       "  </thead>\n",
       "  <tbody>\n",
       "    <tr>\n",
       "      <th>2012-06-01</th>\n",
       "      <td>4841.600098</td>\n",
       "      <td>1074.849976</td>\n",
       "    </tr>\n",
       "    <tr>\n",
       "      <th>2012-06-04</th>\n",
       "      <td>4848.149902</td>\n",
       "      <td>1067.500000</td>\n",
       "    </tr>\n",
       "    <tr>\n",
       "      <th>2012-06-05</th>\n",
       "      <td>4863.299805</td>\n",
       "      <td>1079.000000</td>\n",
       "    </tr>\n",
       "    <tr>\n",
       "      <th>2012-06-06</th>\n",
       "      <td>4997.100098</td>\n",
       "      <td>1107.949951</td>\n",
       "    </tr>\n",
       "    <tr>\n",
       "      <th>2012-06-07</th>\n",
       "      <td>5049.649902</td>\n",
       "      <td>1143.250000</td>\n",
       "    </tr>\n",
       "  </tbody>\n",
       "</table>\n",
       "</div>"
      ],
      "text/plain": [
       "                  Index        Stock\n",
       "Date                                \n",
       "2012-06-01  4841.600098  1074.849976\n",
       "2012-06-04  4848.149902  1067.500000\n",
       "2012-06-05  4863.299805  1079.000000\n",
       "2012-06-06  4997.100098  1107.949951\n",
       "2012-06-07  5049.649902  1143.250000"
      ]
     },
     "execution_count": 54,
     "metadata": {},
     "output_type": "execute_result"
    }
   ],
   "source": [
    "df3.head()"
   ]
  },
  {
   "cell_type": "code",
   "execution_count": 61,
   "metadata": {},
   "outputs": [
    {
     "data": {
      "image/png": "[encoded data removed]",
      "text/plain": [
       "<matplotlib.figure.Figure at 0x20012281ac8>"
      ]
     },
     "metadata": {},
     "output_type": "display_data"
    }
   ],
   "source": [
    "plt.scatter(df3.Index,df3.Stock)\n",
    "plt.xlabel('Index')\n",
    "plt.ylabel('Stock')\n",
    "plt.show()"
   ]
  },
  {
   "cell_type": "code",
   "execution_count": 55,
   "metadata": {},
   "outputs": [
    {
     "name": "stdout",
     "output_type": "stream",
     "text": [
      "4.542592595049104\n"
     ]
    }
   ],
   "source": [
    "import statsmodels.api as sm\n",
    "model = sm.OLS(df3.Index.iloc[:60], df3.Stock.iloc[:60])\n",
    "model = model.fit() \n",
    "print (model.params[0])"
   ]
  },
  {
   "cell_type": "code",
   "execution_count": 57,
   "metadata": {},
   "outputs": [
    {
     "data": {
      "image/png": "[encoded data removed]",
      "text/plain": [
       "<matplotlib.figure.Figure at 0x20012200fd0>"
      ]
     },
     "metadata": {},
     "output_type": "display_data"
    }
   ],
   "source": [
    "df3['spread'] = df3.Index - model.params[0] * df3.Stock\n",
    "# Plot the spread\n",
    "df3.spread.plot(figsize=(8,4))\n",
    "plt.ylabel(\"Spread\")\n",
    "plt.show()"
   ]
  },
  {
   "cell_type": "code",
   "execution_count": 58,
   "metadata": {
    "collapsed": true
   },
   "outputs": [],
   "source": [
    "# To perform ADF Test\n",
    "from statsmodels.tsa.stattools import adfuller\n",
    "# Compute ADF test statistics\n",
    "adf = adfuller(df3.spread, maxlag = 1)"
   ]
  },
  {
   "cell_type": "code",
   "execution_count": 59,
   "metadata": {},
   "outputs": [
    {
     "data": {
      "text/plain": [
       "1.3507909095113917"
      ]
     },
     "execution_count": 59,
     "metadata": {},
     "output_type": "execute_result"
    }
   ],
   "source": [
    "adf[0]"
   ]
  },
  {
   "cell_type": "code",
   "execution_count": 60,
   "metadata": {},
   "outputs": [
    {
     "data": {
      "text/plain": [
       "{'1%': -3.435730242325657,\n",
       " '10%': -2.5680349476516726,\n",
       " '5%': -2.863915864680021}"
      ]
     },
     "execution_count": 60,
     "metadata": {},
     "output_type": "execute_result"
    }
   ],
   "source": [
    "adf[4]"
   ]
  },
  {
   "cell_type": "markdown",
   "metadata": {},
   "source": [
    "# 7.   This question needs to be submitted as a Python code. (10 marks)\n",
    "It is about moving average crossover strategy.  Import data using Python for NSE from 1-1-2008 to 1-1-2016. Choose an SMA and LMA of 50 and 200 respectively. (Please note: You need to fetch data from the website)\n",
    "•             Condition for buy: SMA(i) > LMA(i) & SMA(i-1) < LMA (i-1)\n",
    "•             Condition for sell: SMA(i) < LMA(i) & SMA(i-1) > LMA (i-1)\n",
    "1.            Write a code using 'for loops' to calculate buying price and selling price of the stock when the conditions are met.\n",
    "2.            Write a code for the above strategy using lambda function.\n"
   ]
  },
  {
   "cell_type": "code",
   "execution_count": 162,
   "metadata": {
    "collapsed": true
   },
   "outputs": [],
   "source": [
    "import nsepy"
   ]
  },
  {
   "cell_type": "code",
   "execution_count": 163,
   "metadata": {
    "collapsed": true
   },
   "outputs": [],
   "source": [
    "from datetime import date  "
   ]
  },
  {
   "cell_type": "code",
   "execution_count": 164,
   "metadata": {
    "collapsed": true
   },
   "outputs": [],
   "source": [
    "start = date(2008,1,1)  \n",
    "end = date(2016,1,1)"
   ]
  },
  {
   "cell_type": "code",
   "execution_count": 165,
   "metadata": {
    "collapsed": true
   },
   "outputs": [],
   "source": [
    "x = nsepy.get_history(symbol=\"3IINFOTECH\", start=start, end=end).Close\n",
    "# there is no ticker by name of NSE"
   ]
  },
  {
   "cell_type": "code",
   "execution_count": 166,
   "metadata": {
    "collapsed": true
   },
   "outputs": [],
   "source": [
    "Data = pd.DataFrame(x)"
   ]
  },
  {
   "cell_type": "code",
   "execution_count": 167,
   "metadata": {},
   "outputs": [
    {
     "data": {
      "text/html": [
       "<div>\n",
       "<style scoped>\n",
       "    .dataframe tbody tr th:only-of-type {\n",
       "        vertical-align: middle;\n",
       "    }\n",
       "\n",
       "    .dataframe tbody tr th {\n",
       "        vertical-align: top;\n",
       "    }\n",
       "\n",
       "    .dataframe thead th {\n",
       "        text-align: right;\n",
       "    }\n",
       "</style>\n",
       "<table border=\"1\" class=\"dataframe\">\n",
       "  <thead>\n",
       "    <tr style=\"text-align: right;\">\n",
       "      <th></th>\n",
       "      <th>Close</th>\n",
       "    </tr>\n",
       "    <tr>\n",
       "      <th>Date</th>\n",
       "      <th></th>\n",
       "    </tr>\n",
       "  </thead>\n",
       "  <tbody>\n",
       "    <tr>\n",
       "      <th>2008-01-01</th>\n",
       "      <td>148.90</td>\n",
       "    </tr>\n",
       "    <tr>\n",
       "      <th>2008-01-02</th>\n",
       "      <td>145.70</td>\n",
       "    </tr>\n",
       "    <tr>\n",
       "      <th>2008-01-03</th>\n",
       "      <td>144.65</td>\n",
       "    </tr>\n",
       "    <tr>\n",
       "      <th>2008-01-04</th>\n",
       "      <td>143.55</td>\n",
       "    </tr>\n",
       "    <tr>\n",
       "      <th>2008-01-07</th>\n",
       "      <td>141.65</td>\n",
       "    </tr>\n",
       "  </tbody>\n",
       "</table>\n",
       "</div>"
      ],
      "text/plain": [
       "             Close\n",
       "Date              \n",
       "2008-01-01  148.90\n",
       "2008-01-02  145.70\n",
       "2008-01-03  144.65\n",
       "2008-01-04  143.55\n",
       "2008-01-07  141.65"
      ]
     },
     "execution_count": 167,
     "metadata": {},
     "output_type": "execute_result"
    }
   ],
   "source": [
    "Data.head()"
   ]
  },
  {
   "cell_type": "code",
   "execution_count": 168,
   "metadata": {},
   "outputs": [
    {
     "data": {
      "text/plain": [
       "<matplotlib.axes._subplots.AxesSubplot at 0x2001ac35208>"
      ]
     },
     "execution_count": 168,
     "metadata": {},
     "output_type": "execute_result"
    },
    {
     "data": {
      "image/png": "[encoded data removed]",
      "text/plain": [
       "<matplotlib.figure.Figure at 0x2001654ceb8>"
      ]
     },
     "metadata": {},
     "output_type": "display_data"
    }
   ],
   "source": [
    "Data.plot(figsize=(12,4))"
   ]
  },
  {
   "cell_type": "code",
   "execution_count": 169,
   "metadata": {},
   "outputs": [
    {
     "name": "stderr",
     "output_type": "stream",
     "text": [
      "C:\\Users\\Farooq\\AppData\\Local\\conda\\conda\\envs\\tfdeeplearning\\lib\\site-packages\\ipykernel_launcher.py:4: FutureWarning: pd.rolling_mean is deprecated for Series and will be removed in a future version, replace with \n",
      "\tSeries.rolling(window=50,center=False).mean()\n",
      "  after removing the cwd from sys.path.\n",
      "C:\\Users\\Farooq\\AppData\\Local\\conda\\conda\\envs\\tfdeeplearning\\lib\\site-packages\\ipykernel_launcher.py:5: FutureWarning: pd.rolling_mean is deprecated for Series and will be removed in a future version, replace with \n",
      "\tSeries.rolling(window=200,center=False).mean()\n",
      "  \"\"\"\n",
      "C:\\Users\\Farooq\\AppData\\Local\\conda\\conda\\envs\\tfdeeplearning\\lib\\site-packages\\ipykernel_launcher.py:6: FutureWarning: pd.rolling_mean is deprecated for Series and will be removed in a future version, replace with \n",
      "\tSeries.rolling(window=50,center=False).mean()\n",
      "  \n",
      "C:\\Users\\Farooq\\AppData\\Local\\conda\\conda\\envs\\tfdeeplearning\\lib\\site-packages\\ipykernel_launcher.py:7: FutureWarning: pd.rolling_mean is deprecated for Series and will be removed in a future version, replace with \n",
      "\tSeries.rolling(window=200,center=False).mean()\n",
      "  import sys\n",
      "C:\\Users\\Farooq\\AppData\\Local\\conda\\conda\\envs\\tfdeeplearning\\lib\\site-packages\\ipykernel_launcher.py:8: DeprecationWarning: \n",
      ".ix is deprecated. Please use\n",
      ".loc for label based indexing or\n",
      ".iloc for positional indexing\n",
      "\n",
      "See the documentation here:\n",
      "http://pandas.pydata.org/pandas-docs/stable/indexing.html#ix-indexer-is-deprecated\n",
      "  \n"
     ]
    }
   ],
   "source": [
    "Data = Data.iloc[::-1]\n",
    "sma=50 # specify duration for short moving average\n",
    "lma=200 # specify duration for long moving average\n",
    "Data['SMA'] = pd.rolling_mean(Data['Close'], sma)\n",
    "Data['LMA'] = pd.rolling_mean(Data['Close'], lma)\n",
    "Data['SMA2'] = pd.rolling_mean(Data['Close'].shift(1), sma)\n",
    "Data['LMA2'] = pd.rolling_mean(Data['Close'].shift(1), lma)\n",
    "Data = Data.ix[lma:] "
   ]
  },
  {
   "cell_type": "code",
   "execution_count": 170,
   "metadata": {},
   "outputs": [
    {
     "data": {
      "text/plain": [
       "<matplotlib.axes._subplots.AxesSubplot at 0x2001ac99e10>"
      ]
     },
     "execution_count": 170,
     "metadata": {},
     "output_type": "execute_result"
    },
    {
     "data": {
      "image/png": "[encoded data removed]",
      "text/plain": [
       "<matplotlib.figure.Figure at 0x2001ac94588>"
      ]
     },
     "metadata": {},
     "output_type": "display_data"
    }
   ],
   "source": [
    "Data.plot(figsize=(12,4))"
   ]
  },
  {
   "cell_type": "code",
   "execution_count": 171,
   "metadata": {},
   "outputs": [
    {
     "name": "stdout",
     "output_type": "stream",
     "text": [
      "<class 'pandas.core.frame.DataFrame'>\n",
      "Index: 1518 entries, 2015-02-04 to 2008-01-01\n",
      "Data columns (total 5 columns):\n",
      "Close    1518 non-null float64\n",
      "SMA      1518 non-null float64\n",
      "LMA      1518 non-null float64\n",
      "SMA2     1518 non-null float64\n",
      "LMA2     1518 non-null float64\n",
      "dtypes: float64(5)\n",
      "memory usage: 71.2+ KB\n"
     ]
    }
   ],
   "source": [
    "Data.info()"
   ]
  },
  {
   "cell_type": "code",
   "execution_count": 117,
   "metadata": {
    "collapsed": true
   },
   "outputs": [],
   "source": [
    "# Condition for buy: SMA(i) > LMA(i) & SMA(i-1) < LMA (i-1) • \n",
    "#Condition for sell: SMA(i) < LMA(i) & SMA(i-1) > LMA (i-1)"
   ]
  },
  {
   "cell_type": "markdown",
   "metadata": {},
   "source": [
    "# Using LAMBDA function"
   ]
  },
  {
   "cell_type": "code",
   "execution_count": 172,
   "metadata": {
    "collapsed": true
   },
   "outputs": [],
   "source": [
    "#logic to generate 'buy' and 'sell' signals\n",
    "Data['Buy'] = Data.apply(lambda x : x['Close'] \\\n",
    " if x['SMA'] > x['LMA'] and x['SMA2'] < x['LMA2'] \\\n",
    " else 0, axis=1)\n",
    "Data['Sell'] = Data.apply(lambda y : -y['Close'] \\\n",
    " if y['SMA'] < y['LMA'] and y['SMA2'] > y['LMA2'] \\\n",
    " else 0, axis=1)"
   ]
  },
  {
   "cell_type": "code",
   "execution_count": 173,
   "metadata": {},
   "outputs": [
    {
     "data": {
      "text/plain": [
       "<matplotlib.legend.Legend at 0x200169a7080>"
      ]
     },
     "execution_count": 173,
     "metadata": {},
     "output_type": "execute_result"
    },
    {
     "data": {
      "image/png": "[encoded data removed]",
      "text/plain": [
       "<matplotlib.figure.Figure at 0x20016b2abe0>"
      ]
     },
     "metadata": {},
     "output_type": "display_data"
    }
   ],
   "source": [
    "Data['SMA'].plot()\n",
    "Data['LMA'].plot()\n",
    "plt.legend()"
   ]
  },
  {
   "cell_type": "markdown",
   "metadata": {},
   "source": [
    "# Using For Loop Function"
   ]
  },
  {
   "cell_type": "code",
   "execution_count": 174,
   "metadata": {
    "collapsed": true
   },
   "outputs": [],
   "source": [
    "y = nsepy.get_history(symbol=\"3IINFOTECH\", start=start, end=end).Close\n",
    "# there is no ticker by name of NSE"
   ]
  },
  {
   "cell_type": "code",
   "execution_count": 177,
   "metadata": {
    "collapsed": true
   },
   "outputs": [],
   "source": [
    "df1 = pd.DataFrame(y)"
   ]
  },
  {
   "cell_type": "code",
   "execution_count": 178,
   "metadata": {
    "collapsed": true
   },
   "outputs": [],
   "source": [
    "n_days = len(df1['Close'])"
   ]
  },
  {
   "cell_type": "code",
   "execution_count": 183,
   "metadata": {
    "collapsed": true
   },
   "outputs": [],
   "source": [
    "sma = np.round(df1['Close'].rolling(window=50, center=False).mean(), 2)\n",
    "lma = np.round(df1['Close'].rolling(window=200, center=False).mean(), 2)\n",
    "sma2 = np.round(df1['Close'].shift(1).rolling(window=50, center=False).mean(), 2)\n",
    "lma2 = np.round(df1['Close'].shift(1).rolling(window=200, center=False).mean(), 2)"
   ]
  },
  {
   "cell_type": "code",
   "execution_count": 192,
   "metadata": {},
   "outputs": [
    {
     "name": "stdout",
     "output_type": "stream",
     "text": [
      "1517\n"
     ]
    }
   ],
   "source": [
    "tradingday = n_days - 201\n",
    "print(tradingday)"
   ]
  },
  {
   "cell_type": "raw",
   "metadata": {},
   "source": [
    "buy_data = [] \n",
    "sell_data = []\n",
    "\n",
    "for d in range(tradingday):\n",
    "\n",
    "    if sma[d]>lma[d] and sma2[d]<lma2[d]:\n",
    "        buy_data[d]=1\n",
    "       \n",
    "\n",
    "    if sma[d]<lma[d] and sma2[d]>lma2[d]:\n",
    "        sell_data[d]=0\n",
    "\n",
    "        "
   ]
  },
  {
   "cell_type": "markdown",
   "metadata": {},
   "source": [
    "# 8. Machine Learning (5 marks)\n",
    "a.   What is Cross Validation in Machine Learning? Compare Cross Validation to its other alternatives.\n",
    "b.   What are the differences between supervised and unsupervised learning? Please explain with suitable examples.\n",
    "c.   What are support vectors? How is it related to SVM?\n",
    "d.   What are kernel functions? Why are they required in SVM?\n",
    "e.   How is linear kernel different than Gaussian kernel?\n"
   ]
  },
  {
   "cell_type": "markdown",
   "metadata": {},
   "source": [
    "a. What is Cross Validation in Machine Learning? Compare Cross Validation to its other alternatives. "
   ]
  },
  {
   "cell_type": "raw",
   "metadata": {
    "collapsed": true
   },
   "source": [
    "Cross-validation is a resampling procedure used to evaluate machine learning models on a limited data sample. "
   ]
  },
  {
   "cell_type": "markdown",
   "metadata": {},
   "source": [
    "b. What are the differences between supervised and unsupervised learning? Please explain with suitable examples. "
   ]
  },
  {
   "cell_type": "raw",
   "metadata": {
    "collapsed": true
   },
   "source": [
    "Supervised Learning uses labeled data to predict a label given some features. \n",
    "If the label is continuous its called a regression problem, if its categorical it is a classification problem.\n",
    "\n",
    "For example, Supervised Learning - Classification Features: Height and Weights\n",
    "Label: Gender Task: Given a person’s height and weight, predict their gender.\n",
    "\n",
    "But what if you don’t have historical labels for your data? (You only have features)\n",
    "Since you have no “right answer” to fit on, you need to look for patterns in the data and find a structure.\n",
    "Unsupervised Learning - Clustering\n",
    "Features: Heights and Weights for breeds of dogs.\n",
    "Label: No Label for unsupervised!\n",
    "Task: Cluster together the data into similar groups. It is then up to the data scientist to interpret the clusters.\n"
   ]
  },
  {
   "cell_type": "markdown",
   "metadata": {},
   "source": [
    "c. What are support vectors? How is it related to SVM? d. What are kernel functions? Why are they required in SVM? "
   ]
  },
  {
   "cell_type": "raw",
   "metadata": {
    "collapsed": true
   },
   "source": [
    "Support vector machines or SVM as are also known or supervised learning models of associated learning algorithms that analyze data and recognize patterns. Their use for classification and regression analysis.\n",
    "\n",
    "•The idea of non-linear SVMs is not to increase the features in the dataset itself but to map the low dimensional feature sets to higher dimensional feature sets using the kernel trick. The kernel  function plays the role of the dot product in the feature space."
   ]
  },
  {
   "cell_type": "markdown",
   "metadata": {},
   "source": [
    " e. How is linear kernel different than Gaussian kernel?"
   ]
  },
  {
   "cell_type": "raw",
   "metadata": {
    "collapsed": true
   },
   "source": [
    "Gaussian kernel-σ is the distance between closest points with different classifications"
   ]
  },
  {
   "cell_type": "markdown",
   "metadata": {},
   "source": [
    "# 9.   Market Microstructure (6 marks)\n",
    "Explain the advantages of each of the following over the other given mid-price calculations\n",
    "•             (bid+ask)/2\n",
    "•             (bid*bid_sz+ask*ask_sz)/(bid_sz+ask_sz)\n",
    "•             (bid*ask_sz+ask*bid_sz)/(bid_sz+ask_sz)\n"
   ]
  },
  {
   "cell_type": "raw",
   "metadata": {
    "collapsed": true
   },
   "source": [
    "Three types of mid price•Arithmetic Mean: (bid+ask)/2•Volume Weighted Mean: (bid*bid_sz+ask*ask_sz)/(bid_sz+ask_sz)•Harmonic Mean: (bid*ask_sz+ask*bid_sz)/(bid_sz+ask_sz)"
   ]
  },
  {
   "cell_type": "code",
   "execution_count": null,
   "metadata": {
    "collapsed": true
   },
   "outputs": [],
   "source": []
  }
 ],
 "metadata": {
  "kernelspec": {
   "display_name": "Python 3",
   "language": "python",
   "name": "python3"
  },
  "language_info": {
   "codemirror_mode": {
    "name": "ipython",
    "version": 3
   },
   "file_extension": ".py",
   "mimetype": "text/x-python",
   "name": "python",
   "nbconvert_exporter": "python",
   "pygments_lexer": "ipython3",
   "version": "3.5.4"
  }
 },
 "nbformat": 4,
 "nbformat_minor": 2
}
